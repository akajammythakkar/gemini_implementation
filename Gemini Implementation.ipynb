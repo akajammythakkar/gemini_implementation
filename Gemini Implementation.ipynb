{
  "cells": [
    {
      "cell_type": "markdown",
      "metadata": {
        "id": "view-in-github",
        "colab_type": "text"
      },
      "source": [
        "<a href=\"https://colab.research.google.com/github/akajammythakkar/gemini_implementation/blob/main/Gemini%20Implementation.ipynb\" target=\"_parent\"><img src=\"https://colab.research.google.com/assets/colab-badge.svg\" alt=\"Open In Colab\"/></a>"
      ]
    },
    {
      "cell_type": "markdown",
      "source": [
        "# Before proceeding, go to \"File\" and select option \"Save a copy in drive\" then and only then proceed. YOU WILL NOT BE ABLE TO SAVE CHANGES IN THIS NOTEBOOK"
      ],
      "metadata": {
        "id": "bP828NbQpWHc"
      }
    },
    {
      "cell_type": "markdown",
      "metadata": {
        "id": "rlE8UqxrDIez"
      },
      "source": [
        "### Install & import\n"
      ]
    },
    {
      "cell_type": "markdown",
      "metadata": {
        "id": "cZiU4TKzznh9",
        "outputId": "3971b7a3-422b-4c14-de90-4589a5b19eb2"
      },
      "source": [
        "!pip install google-generativeai"
      ]
    },
    {
      "cell_type": "code",
      "execution_count": 1,
      "metadata": {
        "id": "kWIuwKG2_oWE"
      },
      "outputs": [],
      "source": [
        "# Install the client library and import necessary modules.\n",
        "#!pip install google-generativeai\n",
        "import google.generativeai as genai\n",
        "import json\n",
        "import pathlib\n",
        "import pprint\n",
        "import requests\n",
        "import mimetypes\n",
        "from IPython.display import Markdown"
      ]
    },
    {
      "cell_type": "markdown",
      "metadata": {
        "id": "qZsRPVv1ITbh"
      },
      "source": [
        "\n",
        "\n",
        "### Mount Google Drive"
      ]
    },
    {
      "cell_type": "markdown",
      "metadata": {
        "id": "Fet3lFjdKHEM"
      },
      "source": [
        "## Set the API key"
      ]
    },
    {
      "cell_type": "markdown",
      "metadata": {
        "id": "ZoRWILAtCzBE"
      },
      "source": [
        "\n",
        "## **Add your API_KEY to the secrets manager in the left pannel \"🔑\".**\n",
        "\n",
        "#### To get api key follw the steps:\n",
        "  - go to https://aistudio.google.com/\n",
        "  - If you are a first time user then you'll be asked for privacy and agreement\n",
        "  - After accepting navigate to the left panel.\n",
        "  - You will find a button saying \"Get API Key\" placed exactly below google ai studio, click that.\n",
        "  - Then you will be redirected to API keys page.\n",
        "  - There will be a button saying \"Create API key in new project\", click that.\n",
        "  - After that you will get your api key in few moments.\n",
        "  - Copy that and paste it in key secrets in google colab."
      ]
    },
    {
      "cell_type": "code",
      "source": [
        "from google.colab import userdata # TO get API Key from Secrets\n",
        "\n",
        "API_KEY=userdata.get('API_KEY')"
      ],
      "metadata": {
        "id": "zomLzXMlKH08"
      },
      "execution_count": 3,
      "outputs": []
    },
    {
      "cell_type": "code",
      "execution_count": 4,
      "metadata": {
        "id": "_SvYoR3WCeKr"
      },
      "outputs": [],
      "source": [
        "# Configure the client library by providing your API key.\n",
        "genai.configure(api_key=API_KEY)"
      ]
    },
    {
      "cell_type": "markdown",
      "metadata": {
        "id": "weo-o73WDpdm"
      },
      "source": [
        "### Parse the arguments"
      ]
    },
    {
      "cell_type": "code",
      "execution_count": 5,
      "metadata": {
        "id": "sdf61R_WGgUx"
      },
      "outputs": [],
      "source": [
        "generation_config = {\n",
        "  \"temperature\": 0.9,\n",
        "  \"top_p\": 1,\n",
        "  \"top_k\": 1,\n",
        "  \"max_output_tokens\": 2048,\n",
        "}\n",
        "\n",
        "safety_settings = [\n",
        "  {\n",
        "    \"category\": \"HARM_CATEGORY_HARASSMENT\",\n",
        "    \"threshold\": \"BLOCK_MEDIUM_AND_ABOVE\"\n",
        "  },\n",
        "  {\n",
        "    \"category\": \"HARM_CATEGORY_HATE_SPEECH\",\n",
        "    \"threshold\": \"BLOCK_MEDIUM_AND_ABOVE\"\n",
        "  },\n",
        "  {\n",
        "    \"category\": \"HARM_CATEGORY_SEXUALLY_EXPLICIT\",\n",
        "    \"threshold\": \"BLOCK_MEDIUM_AND_ABOVE\"\n",
        "  },\n",
        "  {\n",
        "    \"category\": \"HARM_CATEGORY_DANGEROUS_CONTENT\",\n",
        "    \"threshold\": \"BLOCK_MEDIUM_AND_ABOVE\"\n",
        "  }\n",
        "]\n"
      ]
    },
    {
      "cell_type": "markdown",
      "metadata": {
        "id": "E7zAD69vE92b"
      },
      "source": [
        "### Configure the API"
      ]
    },
    {
      "cell_type": "code",
      "execution_count": 10,
      "metadata": {
        "id": "LB2LxPmAB95V"
      },
      "outputs": [],
      "source": [
        "# Call the model and print the response.\n",
        "gemini =  genai.GenerativeModel(model_name=\"gemini-1.0-pro\",\n",
        "                              generation_config=generation_config,\n",
        "                              safety_settings=safety_settings)"
      ]
    },
    {
      "cell_type": "code",
      "execution_count": 11,
      "metadata": {
        "id": "lqMoCCRAlV3T"
      },
      "outputs": [],
      "source": [
        "chat = gemini.start_chat()"
      ]
    },
    {
      "cell_type": "code",
      "execution_count": 12,
      "metadata": {
        "id": "4TG6RiVDlV3U"
      },
      "outputs": [],
      "source": [
        "choice = 0"
      ]
    },
    {
      "cell_type": "code",
      "execution_count": 13,
      "metadata": {
        "id": "zS4lcVV1lV3V",
        "outputId": "bc6154c8-79bd-4678-ef1f-f32df910607f",
        "colab": {
          "base_uri": "https://localhost:8080/",
          "height": 237
        }
      },
      "outputs": [
        {
          "name": "stdout",
          "output_type": "stream",
          "text": [
            "Your Question Here: Hello world\n"
          ]
        },
        {
          "output_type": "display_data",
          "data": {
            "text/plain": [
              "<IPython.core.display.Markdown object>"
            ],
            "text/markdown": "Hello world! I am a large language model, trained by Google."
          },
          "metadata": {}
        },
        {
          "output_type": "stream",
          "name": "stdout",
          "text": [
            "\n",
            "\n",
            "\u001b[33mTo continue conversation type \"1\" else type \"2\"\u001b[0m\n",
            "\u001b[31m\u001b[6;1mAny other response will continue the conversation \u001b[0m \n",
            "\n",
            "Enter your choice here: 2\n",
            "\n",
            "\u001b[32mAs you selected 2 the chat has ended. \n",
            "Thank you, to restart chat, run this cell again.\n",
            "                  \u001b[0m\n"
          ]
        }
      ],
      "source": [
        "while(choice != 2):\n",
        "    try:\n",
        "        ques = input(\"Your Question Here: \")\n",
        "        response = chat.send_message(\n",
        "            ques)\n",
        "        display(Markdown(response.text))\n",
        "        print('\\n\\n\\x1b[33mTo continue conversation type \"1\" else type \"2\"\\x1b[0m')\n",
        "        print('\\x1b[31m\\x1b[6;1mAny other response will continue the conversation \\x1b[0m ')\n",
        "        choice = int(input('\\nEnter your choice here: '))\n",
        "        print()\n",
        "        if(choice == 2):\n",
        "            print(\"\"\"\\x1b[32mAs you selected 2 the chat has ended. \\nThank you, to restart chat, run this cell again.\n",
        "                  \\x1b[0m\"\"\")\n",
        "            choice = 0\n",
        "            break\n",
        "    except Exception as e:\n",
        "        print(\"\\n\\n\",e)"
      ]
    },
    {
      "cell_type": "code",
      "source": [],
      "metadata": {
        "id": "jmlg2SCYqYD0"
      },
      "execution_count": null,
      "outputs": []
    }
  ],
  "metadata": {
    "colab": {
      "provenance": [],
      "include_colab_link": true
    },
    "kernelspec": {
      "display_name": "Python 3 (ipykernel)",
      "language": "python",
      "name": "python3"
    },
    "language_info": {
      "codemirror_mode": {
        "name": "ipython",
        "version": 3
      },
      "file_extension": ".py",
      "mimetype": "text/x-python",
      "name": "python",
      "nbconvert_exporter": "python",
      "pygments_lexer": "ipython3",
      "version": "3.11.5"
    }
  },
  "nbformat": 4,
  "nbformat_minor": 0
}